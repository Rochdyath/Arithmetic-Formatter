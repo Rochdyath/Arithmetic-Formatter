{
 "cells": [
  {
   "cell_type": "code",
   "execution_count": 1,
   "metadata": {},
   "outputs": [],
   "source": [
    "l = [\"32 + 698\", \"3801 - 2\", \"45 + 43\", \"123 + 49\", \"32 + 698\", \"3801 - 2\", \"45 + 43\", \"123 + 49\"]\n",
    "problems = []\n",
    "results = []\n",
    "operators = []\n",
    "\n",
    "for p in l:\n",
    "    problem = p.split()\n",
    "    problems.append(problem)\n",
    "    operators.append(problem[1])\n",
    "    results.append(str(eval(p)))"
   ]
  },
  {
   "cell_type": "code",
   "execution_count": 2,
   "metadata": {},
   "outputs": [],
   "source": [
    "length = []\n",
    "\n",
    "def calc_lenght(ops, result):\n",
    "    l = 0\n",
    "    for op in ops:\n",
    "        tmp = len(op)\n",
    "        if l < tmp: l = tmp\n",
    "    if l < len(result): l = len(result)\n",
    "    l+=2\n",
    "    return(l)\n",
    "\n",
    "for (problem, result) in zip(problems, results):\n",
    "    length.append(calc_lenght(problem, result))"
   ]
  },
  {
   "cell_type": "code",
   "execution_count": 3,
   "metadata": {},
   "outputs": [
    {
     "name": "stdout",
     "output_type": "stream",
     "text": [
      "   32      3801      45      123       32      3801      45      123    \n",
      "+ 698    -    2    + 43    +  49    + 698    -    2    + 43    +  49    \n",
      "-----    ------    ----    -----    -----    ------    ----    -----    \n",
      "  730      3799      88      172      730      3799      88      172    "
     ]
    }
   ],
   "source": [
    "for (first, l) in zip(problems, length):\n",
    "    op = first[0]\n",
    "    n = l - len(op)# - len(operator)\n",
    "    print(\" \"*n, op, sep=\"\", end = \"    \")\n",
    "\n",
    "print()\n",
    "\n",
    "for (second, l, operator) in zip(problems, length, operators):\n",
    "    op = second[2]\n",
    "    n = l - len(op) - len(operator)\n",
    "    print(operator,\" \"*n, op, sep=\"\", end = \"    \")\n",
    "\n",
    "print()\n",
    "\n",
    "for l in length:\n",
    "    print(\"-\"*l, end = \"    \")\n",
    "\n",
    "print()\n",
    "\n",
    "for (result, l) in zip(results, length):\n",
    "    n = l - len(result)\n",
    "    print(\" \"*n, result, sep=\"\", end = \"    \")"
   ]
  }
 ],
 "metadata": {
  "kernelspec": {
   "display_name": "base",
   "language": "python",
   "name": "python3"
  },
  "language_info": {
   "codemirror_mode": {
    "name": "ipython",
    "version": 3
   },
   "file_extension": ".py",
   "mimetype": "text/x-python",
   "name": "python",
   "nbconvert_exporter": "python",
   "pygments_lexer": "ipython3",
   "version": "3.11.5"
  }
 },
 "nbformat": 4,
 "nbformat_minor": 2
}
