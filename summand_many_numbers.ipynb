{
 "cells": [
  {
   "cell_type": "code",
   "execution_count": 4,
   "metadata": {},
   "outputs": [],
   "source": [
    "problem = \"1000 - 3801 + 2\"\n",
    "result = str(eval(problem))\n",
    "ops = problem.split()"
   ]
  },
  {
   "cell_type": "code",
   "execution_count": 5,
   "metadata": {},
   "outputs": [],
   "source": [
    "l = 0\n",
    "for op in ops:\n",
    "    tmp = len(op)\n",
    "    if l < tmp: l = tmp\n",
    "if l < len(result): l = len(result)\n",
    "l+=2"
   ]
  },
  {
   "cell_type": "code",
   "execution_count": 6,
   "metadata": {},
   "outputs": [
    {
     "name": "stdout",
     "output_type": "stream",
     "text": [
      "   1000\n",
      "-  3801\n",
      "+     2\n",
      "-------\n",
      "  -2799\n"
     ]
    }
   ],
   "source": [
    "operator = \"\"\n",
    "for op in ops:\n",
    "    if op in [\"+\",\"-\"]: operator = op\n",
    "    else:\n",
    "        n = l - len(op) - len(operator)\n",
    "        print(operator,\" \"*n, op, sep=\"\")\n",
    "print(\"-\"*l)\n",
    "n = l - len(result)\n",
    "print(\" \"*n, result, sep=\"\")"
   ]
  }
 ],
 "metadata": {
  "kernelspec": {
   "display_name": "base",
   "language": "python",
   "name": "python3"
  },
  "language_info": {
   "codemirror_mode": {
    "name": "ipython",
    "version": 3
   },
   "file_extension": ".py",
   "mimetype": "text/x-python",
   "name": "python",
   "nbconvert_exporter": "python",
   "pygments_lexer": "ipython3",
   "version": "3.11.5"
  }
 },
 "nbformat": 4,
 "nbformat_minor": 2
}
